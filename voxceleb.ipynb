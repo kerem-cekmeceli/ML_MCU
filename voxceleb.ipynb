{
 "cells": [
  {
   "cell_type": "markdown",
   "metadata": {},
   "source": [
    "Dataset Shaping"
   ]
  },
  {
   "cell_type": "code",
   "execution_count": null,
   "metadata": {},
   "outputs": [],
   "source": []
  },
  {
   "cell_type": "code",
   "execution_count": null,
   "metadata": {},
   "outputs": [],
   "source": [
    "import numpy as np\n",
    "import matplotlib.pyplot as plt\n",
    "import tensorflow as tf\n",
    "import seaborn as sn\n",
    "import os\n",
    "\n",
    "# %matplotlib inline\n",
    "# plt.rcParams['figure.figsize'] = (10.0, 8.0) # set default size of plots\n",
    "# plt.rcParams['image.interpolation'] = 'nearest'\n",
    "# # change this setting for other datasets\n",
    "# plt.rcParams['image.cmap'] = TBD\n",
    "\n",
    "# for auto-reloading external modules\n",
    "\n",
    "# see http://stackoverflow.com/questions/1907993/autoreload-of-modules-in-ipython\n",
    "# %load_ext autoreload\n",
    "# %autoreload 2"
   ]
  },
  {
   "cell_type": "markdown",
   "metadata": {},
   "source": [
    "# Download the dataset\n",
    "For this we use the keras.datasets.mnist package. This package contains the MNIST dataset which is a dataset of 60,000 28x28 grayscale images of the 10 digits, along with a test set of 10,000 images. The dataset is split into 60,000 training images and 10,000 testing images. The images are grayscale, and the labels are integers (between 0 and 9)."
   ]
  },
  {
   "cell_type": "code",
   "execution_count": null,
   "metadata": {},
   "outputs": [],
   "source": [
    "# Load MNIST dataset, we can use Tensorflow for this\n",
    "train_dataset, test_dataset = TBD\n",
    "\n",
    "X_train_q = train_dataset[0]\n",
    "y_train = train_dataset[1]\n",
    "\n",
    "X_test_q = test_dataset[0]\n",
    "y_test = test_dataset[1]\n",
    "\n",
    "print(\"Shape of train dataset: {}\".format(X_train_q.shape))\n",
    "print(\"Shape of train labels: {}\".format(y_train.shape))\n",
    "print(\"Shape of test dataset: {}\".format(X_test_q.shape))\n",
    "print(\"Shape of test labels: {}\".format(y_test.shape))"
   ]
  },
  {
   "cell_type": "markdown",
   "metadata": {},
   "source": [
    "# Visualize the data\n",
    "We can visualize the data by plotting the first 25 images from the training set and display the class name below each image."
   ]
  },
  {
   "cell_type": "code",
   "execution_count": null,
   "metadata": {},
   "outputs": [],
   "source": [
    "# Visualize some examples from the dataset.\n",
    "# We show a few examples of training images from each class.\n",
    "\n",
    "classes = TBD\n",
    "num_classes = len(classes)\n",
    "samples_per_class = 6\n",
    "fig = plt.figure(figsize=(18,10))\n",
    "for y, cls in enumerate(classes):\n",
    "    idxs = np.flatnonzero(y_train == y)\n",
    "    idxs = np.random.choice(idxs, samples_per_class, replace=False)\n",
    "    for i, idx in enumerate(idxs):\n",
    "        plt_idx = i * num_classes + y + 1\n",
    "        plt.subplot(samples_per_class, num_classes, plt_idx)\n",
    "        plt.imshow(X_train_q[idx].astype('uint8'))\n",
    "        plt.axis('off')\n",
    "        if i == 0:\n",
    "            plt.title(cls)"
   ]
  },
  {
   "cell_type": "markdown",
   "metadata": {},
   "source": [
    "# Rescale the input data\n",
    "The input data is in the range of [0, 255]. We need to rescale the input data to the range of [0, 1] before feeding it to the model. We can do this by dividing the input data by 255. Furthermore, the labels are represented as one-hot encoded vectors."
   ]
  },
  {
   "cell_type": "code",
   "execution_count": null,
   "metadata": {},
   "outputs": [],
   "source": [
    "X_train = (X_train_q.astype(np.float32) / 255).astype(np.float32)[...,np.newaxis]\n",
    "X_test = (X_test_q.astype(np.float32) / 255).astype(np.float32)[...,np.newaxis]\n",
    "\n",
    "y_train = tf.one_hot(y_train.squeeze(), depth=10)\n",
    "y_test = tf.one_hot(y_test.squeeze(), depth=10)\n",
    "\n",
    "print(\"Shape of train dataset: {}\".format(X_train.shape))\n",
    "print(\"Shape of train labels: {}\".format(y_train.shape))\n",
    "print(\"Shape of test dataset: {}\".format(X_test.shape))\n",
    "print(\"Shape of test labels: {}\".format(y_test.shape))"
   ]
  },
  {
   "cell_type": "markdown",
   "metadata": {},
   "source": [
    "# Create the torch \n",
    "https://github.com/clovaai/voxceleb_trainer/blob/master/models/VGGVox.py\n"
   ]
  },
  {
   "cell_type": "code",
   "execution_count": 1,
   "metadata": {},
   "outputs": [
    {
     "name": "stderr",
     "output_type": "stream",
     "text": [
      "c:\\Users\\kerem\\anaconda3\\envs\\ml_mcu_env\\lib\\site-packages\\torchaudio\\backend\\utils.py:62: UserWarning: No audio backend is available.\n",
      "  warnings.warn(\"No audio backend is available.\")\n"
     ]
    }
   ],
   "source": [
    "import torch\n",
    "import torchaudio\n",
    "import torch.nn as nn\n",
    "import torch.nn.functional as F\n",
    "from torch.nn import Parameter\n"
   ]
  },
  {
   "cell_type": "code",
   "execution_count": null,
   "metadata": {},
   "outputs": [],
   "source": [
    "class VGGModel(nn.Module):\n",
    "    def __init__(self, nOut = 1024, encoder_type='SAP', log_input=True, **kwargs):\n",
    "        super(MainModel, self).__init__();\n",
    "\n",
    "        print('Embedding size is %d, encoder %s.'%(nOut, encoder_type))\n",
    "        \n",
    "        self.encoder_type = encoder_type\n",
    "        self.log_input    = log_input\n",
    "\n",
    "        self.netcnn = nn.Sequential(\n",
    "            nn.Conv2d(1, 96, kernel_size=(5,7), stride=(1,2), padding=(2,2)),\n",
    "            nn.BatchNorm2d(96),\n",
    "            nn.ReLU(inplace=True),\n",
    "            nn.MaxPool2d(kernel_size=(1,3), stride=(1,2)),\n",
    "\n",
    "            nn.Conv2d(96, 256, kernel_size=(5,5), stride=(2,2), padding=(1,1)),\n",
    "            nn.BatchNorm2d(256),\n",
    "            nn.ReLU(inplace=True),\n",
    "            nn.MaxPool2d(kernel_size=(3,3), stride=(2,2)),\n",
    "\n",
    "            nn.Conv2d(256, 384, kernel_size=(3,3), padding=(1,1)),\n",
    "            nn.BatchNorm2d(384),\n",
    "            nn.ReLU(inplace=True),\n",
    "\n",
    "            nn.Conv2d(384, 256, kernel_size=(3,3), padding=(1,1)),\n",
    "            nn.BatchNorm2d(256),\n",
    "            nn.ReLU(inplace=True),\n",
    "\n",
    "            nn.Conv2d(256, 256, kernel_size=(3,3), padding=(1,1)),\n",
    "            nn.BatchNorm2d(256),\n",
    "            nn.ReLU(inplace=True),\n",
    "            nn.MaxPool2d(kernel_size=(3,3), stride=(2,2)),\n",
    "\n",
    "            nn.Conv2d(256, 512, kernel_size=(4,1), padding=(0,0)),\n",
    "            nn.BatchNorm2d(512),\n",
    "            nn.ReLU(inplace=True),\n",
    "            \n",
    "        );\n",
    "\n",
    "        if self.encoder_type == \"MAX\":\n",
    "            self.encoder = nn.AdaptiveMaxPool2d((1,1))\n",
    "            out_dim = 512\n",
    "        elif self.encoder_type == \"TAP\":\n",
    "            self.encoder = nn.AdaptiveAvgPool2d((1,1))\n",
    "            out_dim = 512\n",
    "        elif self.encoder_type == \"SAP\":\n",
    "            self.sap_linear = nn.Linear(512, 512)\n",
    "            self.attention = self.new_parameter(512, 1)\n",
    "            out_dim = 512\n",
    "        else:\n",
    "            raise ValueError('Undefined encoder')\n",
    "\n",
    "        self.fc = nn.Linear(out_dim, nOut)\n",
    "\n",
    "        self.instancenorm   = nn.InstanceNorm1d(40)\n",
    "        self.torchfb        = torchaudio.transforms.MelSpectrogram(sample_rate=16000, n_fft=512, win_length=400, hop_length=160, f_min=0.0, f_max=8000, pad=0, n_mels=40)\n",
    "\n",
    "    def new_parameter(self, *size):\n",
    "        out = nn.Parameter(torch.FloatTensor(*size))\n",
    "        nn.init.xavier_normal_(out)\n",
    "        return out\n",
    "        \n",
    "    def forward(self, x):\n",
    "\n",
    "        with torch.no_grad():\n",
    "            with torch.cuda.amp.autocast(enabled=False):\n",
    "                x = self.torchfb(x)+1e-6\n",
    "                if self.log_input: x = x.log()\n",
    "                x = self.instancenorm(x).unsqueeze(1)\n",
    "\n",
    "        x = self.netcnn(x);\n",
    "\n",
    "        if self.encoder_type == \"MAX\" or self.encoder_type == \"TAP\":\n",
    "            x = self.encoder(x)\n",
    "            x = x.view((x.size()[0], -1))\n",
    "\n",
    "        elif self.encoder_type == \"SAP\":\n",
    "            x = x.permute(0, 2, 1, 3)\n",
    "            x = x.squeeze(dim=1).permute(0, 2, 1)  # batch * L * D\n",
    "            h = torch.tanh(self.sap_linear(x))\n",
    "            w = torch.matmul(h, self.attention).squeeze(dim=2)\n",
    "            w = F.softmax(w, dim=1).view(x.size(0), x.size(1), 1)\n",
    "            x = torch.sum(x * w, dim=1)\n",
    "\n",
    "        x = self.fc(x);\n",
    "\n",
    "        return x;\n",
    "\n"
   ]
  }
 ],
 "metadata": {
  "kernelspec": {
   "display_name": "Python 3.8.15 ('ml_mcu_env')",
   "language": "python",
   "name": "python3"
  },
  "language_info": {
   "codemirror_mode": {
    "name": "ipython",
    "version": 3
   },
   "file_extension": ".py",
   "mimetype": "text/x-python",
   "name": "python",
   "nbconvert_exporter": "python",
   "pygments_lexer": "ipython3",
   "version": "3.8.0"
  },
  "orig_nbformat": 4,
  "vscode": {
   "interpreter": {
    "hash": "9138d4114e08645198299aaf8e2923ca19654615259edf66307bf57fbbcdfa7e"
   }
  }
 },
 "nbformat": 4,
 "nbformat_minor": 2
}
