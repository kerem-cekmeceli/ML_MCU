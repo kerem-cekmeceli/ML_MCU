{
 "cells": [
  {
   "cell_type": "code",
   "execution_count": 2,
   "metadata": {},
   "outputs": [],
   "source": [
    "import tensorflow as tf\n",
    "from tensorflow import keras\n",
    "import numpy as np\n",
    "import seaborn as sn\n",
    "import os\n",
    "import matplotlib.pyplot as plt\n",
    "from sklearn.metrics import accuracy_score\n",
    "from sklearn.metrics import confusion_matrix\n",
    "from data_paths import get_file_paths_ordered\n",
    "from tf_lite_conversion import convert_to_tf_lite, eval_tf_lite_model\n",
    "from scipy.io import wavfile\n",
    "from IPython.display import Audio\n",
    "from pre_process import choose_tot_slice_len, get_data_tensors, compute_mfccs\n",
    "from models import get_model"
   ]
  },
  {
   "cell_type": "code",
   "execution_count": 13,
   "metadata": {},
   "outputs": [
    {
     "name": "stdout",
     "output_type": "stream",
     "text": [
      "Number of speakers :  12\n"
     ]
    }
   ],
   "source": [
    "# Number of speakers and the percentage of the available samples to use to consider:\n",
    "num_speakers = 12\n",
    "model_name = 'test_' + str(num_speakers) + '_spk'\n",
    "dataset_percentage = 1. # 0.85\n",
    "segmentLength=1024\n",
    "print(\"Number of speakers : \", num_speakers)\n",
    "\n",
    "\n",
    "# MAC / clock frequnecy = time/inference\n",
    "# clock per operation\n",
    "# int = dropout / regularization"
   ]
  },
  {
   "cell_type": "code",
   "execution_count": 14,
   "metadata": {},
   "outputs": [
    {
     "name": "stdout",
     "output_type": "stream",
     "text": [
      "Models will be saved to:  Models/test_12_spk/\n"
     ]
    }
   ],
   "source": [
    "model_dir_root = 'Models/'+ f'{model_name}/'\n",
    "\n",
    "path_keras_model = model_dir_root + 'KerasModels/'\n",
    "path_tf_lite_nq = model_dir_root + 'TFLiteModelsNonQuantized/'\n",
    "path_tf_lite_q = model_dir_root + 'TFLiteModelsQuantized/'\n",
    "path_figures = model_dir_root + 'Figures/'\n",
    "\n",
    "# Create the directories\n",
    "paths = [path_keras_model, path_tf_lite_nq, path_tf_lite_q, path_figures]\n",
    "\n",
    "for path in paths:\n",
    "    if not os.path.exists(path):\n",
    "        os.makedirs(path)\n",
    "\n",
    "print('Models will be saved to: ', model_dir_root)\n",
    "\n",
    "model_name_keras = 'keras_'+ model_name + '.h5'\n",
    "model_name_tf_lite_nq = 'tflite_nq_'+ model_name + '.tflite'\n",
    "model_name_tf_lite_q = 'tflite_q_'+ model_name + '.tflite'"
   ]
  },
  {
   "cell_type": "code",
   "execution_count": 16,
   "metadata": {},
   "outputs": [],
   "source": [
    "model = tf.keras.models.load_model(model_dir_root + \"KerasModels/\" + model_name_keras)"
   ]
  },
  {
   "cell_type": "code",
   "execution_count": 19,
   "metadata": {},
   "outputs": [],
   "source": [
    "# Load TFLite model and allocate tensors.\n",
    "interpreter = tf.lite.Interpreter(model_path=model_dir_root + \"TFLiteModelsQuantized/\" + model_name_tf_lite_q)\n",
    "interpreter.allocate_tensors()"
   ]
  },
  {
   "cell_type": "code",
   "execution_count": 17,
   "metadata": {},
   "outputs": [],
   "source": [
    "# Function: Convert some hex value into an array for C programming\n",
    "def hex_to_c_array(hex_data, var_name):\n",
    "\n",
    "    c_str = ''\n",
    "\n",
    "    # Create header guard\n",
    "    c_str += '#ifndef ' + var_name.upper() + '_H\\n'\n",
    "    c_str += '#define ' + var_name.upper() + '_H\\n\\n'\n",
    "\n",
    "    # Add array length at top of file\n",
    "    c_str += '\\nunsigned int ' + var_name + '_len = ' + str(len(hex_data)) + ';\\n'\n",
    "\n",
    "    # Declare C variable\n",
    "    c_str += 'unsigned char ' + var_name + '[] = {'\n",
    "    hex_array = []\n",
    "    for i, val in enumerate(hex_data) :\n",
    "\n",
    "        # Construct string from hex\n",
    "        hex_str = format(val, '#04x')\n",
    "\n",
    "        # Add formatting so each line stays within 80 characters\n",
    "        if (i + 1) < len(hex_data):\n",
    "            hex_str += ','\n",
    "        if (i + 1) % 12 == 0:\n",
    "            hex_str += '\\n '\n",
    "        hex_array.append(hex_str)\n",
    "\n",
    "    # Add closing brace\n",
    "    c_str += '\\n ' + format(' '.join(hex_array)) + '\\n};\\n\\n'\n",
    "\n",
    "    # Close out header guard\n",
    "    c_str += '#endif //' + var_name.upper() + '_H'\n",
    "\n",
    "    return c_str"
   ]
  },
  {
   "cell_type": "code",
   "execution_count": null,
   "metadata": {},
   "outputs": [],
   "source": [
    "c_model_name = model_name_tf_lite_q\n",
    "# Write TFLite model to a C source (or header) file\n",
    "with open(c_model_name + '.h', 'w') as file:\n",
    "    file.write(hex_to_c_array(tflite_model, c_model_name))"
   ]
  }
 ],
 "metadata": {
  "kernelspec": {
   "display_name": "ml",
   "language": "python",
   "name": "python3"
  },
  "language_info": {
   "codemirror_mode": {
    "name": "ipython",
    "version": 3
   },
   "file_extension": ".py",
   "mimetype": "text/x-python",
   "name": "python",
   "nbconvert_exporter": "python",
   "pygments_lexer": "ipython3",
   "version": "3.10.4 | packaged by conda-forge | (main, Mar 30 2022, 08:38:02) [MSC v.1916 64 bit (AMD64)]"
  },
  "orig_nbformat": 4,
  "vscode": {
   "interpreter": {
    "hash": "41069a3f029644836504dc9d810198084501bf6f4ea4c02ce2bdd282f604611f"
   }
  }
 },
 "nbformat": 4,
 "nbformat_minor": 2
}
